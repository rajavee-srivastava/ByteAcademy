{
 "cells": [
  {
   "attachments": {},
   "cell_type": "markdown",
   "metadata": {},
   "source": [
    "Q1. Write a program that asks user to enter a length in centimeters. If negative value is entered, the program should tell the user that the entry is invalid. Otherwise the program should convert the length to inches and print out the result. \n",
    " 1 Inch = 2.54 centimeters"
   ]
  },
  {
   "cell_type": "code",
   "execution_count": null,
   "metadata": {},
   "outputs": [],
   "source": [
    "number = float(input(\"Enter the length in centimeters : \"))\n",
    "if number >= 0:\n",
    "    inch = number * 2.54\n",
    "    print(f\"The length in inches is : {inch} \")\n",
    "else:\n",
    "    print(\"Invalid input. The length should be a positive value!\")"
   ]
  },
  {
   "attachments": {},
   "cell_type": "markdown",
   "metadata": {},
   "source": [
    "Q2. Write a program that accepts sentence from the user as input and then print the unique words present in that sentense along with the number of times they appeared in the sentence. "
   ]
  },
  {
   "cell_type": "code",
   "execution_count": null,
   "metadata": {},
   "outputs": [],
   "source": [
    "import re\n",
    "from collections import Counter\n",
    "\n",
    "sentence = input(\"Please enter a sentence : \")\n",
    "list = re.findall(r'\\w+', sentence)\n",
    "counts = Counter(list)\n",
    "\n",
    "for x in counts:\n",
    "    print(f\"{x} : {counts[x]}\")"
   ]
  },
  {
   "attachments": {},
   "cell_type": "markdown",
   "metadata": {},
   "source": [
    "Q3.Write a program that accepts sentence from the user as input and then print the location of each vowel in the sentence."
   ]
  },
  {
   "cell_type": "code",
   "execution_count": null,
   "metadata": {},
   "outputs": [],
   "source": [
    "sentence = input(\"Enter a sentence: \").lower()\n",
    "vowels = ['a','e','i','o','u']\n",
    "position_dict = {}\n",
    "list = []\n",
    "for x in sentence:\n",
    "    list.append(x)\n",
    "for idx, value in enumerate(list):\n",
    "    if value in vowels:\n",
    "        if value not in position_dict:\n",
    "            position_dict[value] = [idx]\n",
    "        else:\n",
    "            position_dict[value].append(idx)\n",
    "\n",
    "print(\n",
    "f\"\"\"Position index starts from zero!\n",
    "\n",
    "Position of 'A': {position_dict['a']}\n",
    "Position of 'E': {position_dict['e']}\n",
    "Position of 'I': {position_dict['i']}\n",
    "Position of 'O': {position_dict['o']}\n",
    "Position of 'U': {position_dict['u']}\"\"\")"
   ]
  },
  {
   "attachments": {},
   "cell_type": "markdown",
   "metadata": {},
   "source": [
    "Write a program that asks user to enter a word and determines whether the word is palindrome or not. A palindrome is a word\n",
    "that read the same backwards as forwards."
   ]
  },
  {
   "cell_type": "code",
   "execution_count": null,
   "metadata": {},
   "outputs": [],
   "source": [
    "word = input(\"Enter a word for palindrome check: \")\n",
    "print(f\"{word} is a Palindrome : \",word==word[::-1])"
   ]
  },
  {
   "attachments": {},
   "cell_type": "markdown",
   "metadata": {},
   "source": [
    "Q5. Write a program using while loop that prints square and cube of numbers between 1 to 10."
   ]
  },
  {
   "cell_type": "code",
   "execution_count": null,
   "metadata": {},
   "outputs": [],
   "source": [
    "i = 1\n",
    "while i<=10:\n",
    "    print(f\"Number = {i} Square = {i**2} Cube = {i**3}\")\n",
    "    i+=1\n"
   ]
  },
  {
   "attachments": {},
   "cell_type": "markdown",
   "metadata": {},
   "source": [
    "Use a for loop to print a triangle like the one below. Allow the user to specify how high the triangle should be.\n",
    "@\n",
    "@@\n",
    "@@@\n",
    "@@@@ "
   ]
  },
  {
   "cell_type": "code",
   "execution_count": null,
   "metadata": {},
   "outputs": [],
   "source": [
    "high = int(input(\"How many levels should the triangle have? \"))\n",
    "for h in range(high+1):\n",
    "    print('@'*h)"
   ]
  },
  {
   "attachments": {},
   "cell_type": "markdown",
   "metadata": {},
   "source": [
    "Write a program that asks the user to enter the password. If the user enters the right password, the program should tell them they are logged in to the system. Otherwise, the program should ask them to reenter the password. The user should get only five tries to enter the password, after which point the program should tell them that they are kicked off of the system.\n"
   ]
  },
  {
   "cell_type": "code",
   "execution_count": null,
   "metadata": {},
   "outputs": [],
   "source": [
    "set_password = input(\"Set up your password: \")\n",
    "i=5\n",
    "while i<=5 and i>-1:\n",
    "    re_password = input(\"Re-enter your password: \")\n",
    "    if i==0:\n",
    "        print(\"Password dont match. You are logged out of the system!\")\n",
    "    elif re_password != set_password:\n",
    "        print(f\"Passwords dont match. You have {i} tries remaining.\")\n",
    "    else:\n",
    "        print(\"Passwords match! You have logged in the system.\")\n",
    "        break\n",
    "    i-=1\n"
   ]
  },
  {
   "attachments": {},
   "cell_type": "markdown",
   "metadata": {},
   "source": [
    "'''Exercise 1\n",
    "\n",
    "Import the math module in whatever way you prefer.\n",
    "Call its sqrt function on the number 13689 and print that value to the console. '''"
   ]
  },
  {
   "cell_type": "code",
   "execution_count": null,
   "metadata": {},
   "outputs": [],
   "source": [
    "from math import sqrt\n",
    "\n",
    "print(sqrt(13689))"
   ]
  },
  {
   "attachments": {},
   "cell_type": "markdown",
   "metadata": {},
   "source": [
    "Write a shutting down program:\n",
    "\n",
    "First, def a function, shut_down, that takes one argument s.\n",
    "Then, if the shut_down function receives an s equal to \"yes\",\n",
    "it should return \"Shutting down\" Alternatively, elif s is equal to \"no\",\n",
    "then the function should return \"Shutdown aborted\".\n",
    "Finally, if shut_down gets anything other than those inputs,\n",
    "the function should return \"Sorry\". '''"
   ]
  },
  {
   "cell_type": "code",
   "execution_count": null,
   "metadata": {},
   "outputs": [],
   "source": [
    "def shut_down(s):\n",
    "    if s.lower() == \"yes\":\n",
    "        print(\"Shutting down\")\n",
    "    elif s.lower() == \"no\":\n",
    "        print(\"Shutdown Aborted\")\n",
    "    else:\n",
    "        print(\"Sorry\")\n",
    "\n",
    "shut_down(\"yes\")"
   ]
  },
  {
   "attachments": {},
   "cell_type": "markdown",
   "metadata": {},
   "source": [
    "'''Exercise 3\n",
    "Let's use functions to calculate your trip's costs:\n",
    "\n",
    "Define a function called hotel_cost with one argument nights as input.\n",
    "The hotel costs $140 per night. So, the function hotel_cost should return 140 * nights.\n",
    "\n",
    "Define a function called plane_ride_cost that takes a string, city, as input.\n",
    "The function should return a different price depending on the location.\n",
    "Below are the valid destinations and their corresponding round-trip prices.\n",
    "\"Charlotte\": 183\n",
    "\"Tampa\": 220\n",
    "\"Pittsburgh\": 222\n",
    "\"Los Angeles\": 475\n",
    "\n",
    "-Below your existing code, define a function called rental_car_cost with an argument called days.\n",
    "Calculate the cost of renting the car: Every day you rent the car and it costs $40.(cost=40*days)\n",
    "If you rent the car for 7 or more days, you get $50 off your total(cost-=50). \n",
    "Alternatively (elif), if you rent the car for 3 or more days, you get $20 off your total. \n",
    "You cannot get both of the above discounts. Return that cost. \n",
    "\n",
    "-Then, define a function called trip_cost that takes two arguments, city and days.\n",
    "Modify your trip_cost function definition having your function return the sum of calling the rental_car_cost(days), hotel_cost(nights), and plane_ride_cost(city) functions.\n",
    ". Add a third argument, spending_money. Modify what the trip_cost function does. \n",
    "Add the variable spending_money to the sum that it returns. '''"
   ]
  },
  {
   "cell_type": "code",
   "execution_count": null,
   "metadata": {},
   "outputs": [],
   "source": [
    "def hotel_cost(nights: int)->int:\n",
    "    return (nights*140)\n",
    "def plane_ride_cost(city: str)->str:\n",
    "    if city == \"Charlotte\": \n",
    "        return(183)\n",
    "    if city ==\"Tampa\": \n",
    "        return(220)\n",
    "    if city ==\"Pittsburgh\": \n",
    "        return(222)\n",
    "    if city ==\"Los Angeles\": \n",
    "        return(475)\n",
    "def rental_car_cost(days: int)->int:\n",
    "    cost=40*days\n",
    "    if days>=3 and days<7:\n",
    "        cost=cost-20\n",
    "    elif days>=7:\n",
    "        cost=cost-50\n",
    "    return(cost)\n",
    "def trip_cost(city: str, days: int, spending_money:int):\n",
    "    hotel = hotel_cost(days)\n",
    "    rental_car = rental_car_cost(days)\n",
    "    plane_ride = plane_ride_cost(city)\n",
    "    return (hotel+rental_car+plane_ride+spending_money)\n",
    "\n",
    "total=trip_cost(\"Tampa\",5,50)\n",
    "print(f\"The total trip cost is {total}\")"
   ]
  },
  {
   "attachments": {},
   "cell_type": "markdown",
   "metadata": {},
   "source": [
    "'''Exercise 4\n",
    "First, def a function called distance_from_zero,\n",
    "with one argument (choose any argument name you like).\n",
    "If the type of the argument is either int or float, the function should return\n",
    "the absolute value of the function input. Otherwise, the function should return \"Nope\".\n",
    "Check if it works calling the function with -5.6 and \"what?\".\n"
   ]
  },
  {
   "cell_type": "code",
   "execution_count": null,
   "metadata": {},
   "outputs": [],
   "source": [
    "def distance_from_zero(input):\n",
    "    if isinstance(input, int):\n",
    "        return abs(input)\n",
    "    elif isinstance(input, float):\n",
    "        return abs(input)\n",
    "    else:\n",
    "        return(\"Nope.\")\n",
    "\n",
    "print(distance_from_zero(-5.6))\n",
    "print(distance_from_zero(\"what?\"))\n"
   ]
  },
  {
   "attachments": {},
   "cell_type": "markdown",
   "metadata": {},
   "source": [
    "'''Exercise 5\n",
    "Follow the steps:\n",
    "\n",
    "First, def a function called cube that takes an argument called number.\n",
    "Make that function return the cube of that number (i.e. that number multiplied by itself and multiplied by itself once again).\n",
    "Define a second function called by_three that takes an argument called number.\n",
    "if that number is divisible by 3,by_threeshould call cube(number) and return its result.\n",
    "Otherwise, by_three should return False. -Check if it works.'''"
   ]
  },
  {
   "cell_type": "code",
   "execution_count": null,
   "metadata": {},
   "outputs": [],
   "source": [
    "def cube(number):\n",
    "    return (number**3)\n",
    "\n",
    "def by_three(number):\n",
    "    if number%3 == 0:\n",
    "        return (cube(number))\n",
    "    else:\n",
    "        return(\"False\")\n",
    "\n",
    "by_three(15)"
   ]
  },
  {
   "attachments": {},
   "cell_type": "markdown",
   "metadata": {},
   "source": [
    "'''Exercise 6\n",
    "\n",
    "Write a Python program which iterates the integers from 1 to 50. \n",
    " \n",
    " For multiples of three print \"Fizz\" instead of the number and for the multiples of five print \"Buzz\". \n",
    " \n",
    " For numbers which are multiples of both three and five print \"FizzBuzz\".\n",
    "\n",
    " Sample Output : \n",
    " \n",
    " fizzbuzz\n",
    " \n",
    " 1\n",
    " \n",
    " 2\n",
    " \n",
    " fizz\n",
    " \n",
    " 4 \n",
    " \n",
    " buzz'''\n",
    "\n",
    "'''  "
   ]
  },
  {
   "cell_type": "code",
   "execution_count": null,
   "metadata": {},
   "outputs": [],
   "source": [
    "for i in range(1,51):\n",
    "    if i%3 == 0 and i%5 ==0:\n",
    "        print(\"FizzBuzz\")\n",
    "    elif i%3==0:\n",
    "        print(\"Fizz\")\n",
    "    elif i%5==0:\n",
    "        print(\"Buzz\")\n",
    "    else:\n",
    "        print(i)"
   ]
  },
  {
   "attachments": {},
   "cell_type": "markdown",
   "metadata": {},
   "source": [
    "Exercise 7\n",
    "\n",
    "Write a Python program to find those numbers which are divisible by 7 and multiple of 5,\n",
    " between 1500 and 2700 (both included).\n",
    "'''"
   ]
  },
  {
   "cell_type": "code",
   "execution_count": null,
   "metadata": {},
   "outputs": [],
   "source": [
    "for i in range(1500,2701):\n",
    "    if i%7==0 and i%5==0:\n",
    "        print(i)"
   ]
  }
 ],
 "metadata": {
  "kernelspec": {
   "display_name": "Python 3",
   "language": "python",
   "name": "python3"
  },
  "language_info": {
   "codemirror_mode": {
    "name": "ipython",
    "version": 3
   },
   "file_extension": ".py",
   "mimetype": "text/x-python",
   "name": "python",
   "nbconvert_exporter": "python",
   "pygments_lexer": "ipython3",
   "version": "3.10.8"
  },
  "orig_nbformat": 4
 },
 "nbformat": 4,
 "nbformat_minor": 2
}
