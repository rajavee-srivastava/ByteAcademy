{
 "cells": [
  {
   "attachments": {},
   "cell_type": "markdown",
   "metadata": {},
   "source": [
    "1. Write a program that reads integers from the user and stores them in a list. Your\n",
    "program should continue reading values until the user enters 0. Then it should display\n",
    "all of the values entered by the user (except for the 0) in order from smallest to largest,\n",
    "with one value appearing on each line. Use either the sort method or the sorted\n",
    "function to sort the list."
   ]
  },
  {
   "cell_type": "code",
   "execution_count": null,
   "metadata": {},
   "outputs": [],
   "source": [
    "int_list = []\n",
    "while True:\n",
    "    integer = int(input(\"Enter a number. Enter 0 to quit. :\"))\n",
    "    if integer == 0:\n",
    "        print(\"Quitting program and printing list ...\")\n",
    "        print(sorted(int_list))\n",
    "        break\n",
    "    int_list.append(integer)\n"
   ]
  },
  {
   "attachments": {},
   "cell_type": "markdown",
   "metadata": {},
   "source": [
    "2. In this exercise, you will create a program that reads words from the user until the\n",
    "user enters the string “end”. After the user enters “end” your program should display\n",
    "each word entered by the user exactly once. The words should be displayed in\n",
    "the same order that they were entered. For example, if the user enters:\n",
    "\n",
    "first\n",
    "second\n",
    "first\n",
    "third\n",
    "second\n",
    "then your program should display:\n",
    "first\n",
    "second\n",
    "third"
   ]
  },
  {
   "cell_type": "code",
   "execution_count": null,
   "metadata": {},
   "outputs": [],
   "source": [
    "word_list = []\n",
    "while True:\n",
    "    word = input(\"Enter a word. Enter end to quit. : \")\n",
    "    if word.lower() == \"end\" :\n",
    "        print(\"Quitting program and printing list ...\")\n",
    "        print(word_list)\n",
    "        break\n",
    "    elif word not in word_list:\n",
    "        word_list.append(word)        "
   ]
  },
  {
   "attachments": {},
   "cell_type": "markdown",
   "metadata": {},
   "source": [
    "3. A proper divisor of a positive integer, n, is a positive integer less than n which divides\n",
    "evenly into n. Write a function that computes all of the proper divisors of a positive\n",
    "integer. The integer will be passed to the function as its only parameter. The function\n",
    "will return a list containing all of the proper divisors as its only result.\n"
   ]
  },
  {
   "cell_type": "code",
   "execution_count": null,
   "metadata": {},
   "outputs": [],
   "source": [
    "def proper_divisors(n):\n",
    "    divisors = []\n",
    "    for i in range(1, n):\n",
    "        if n % i == 0:\n",
    "            divisors.append(i)\n",
    "    return divisors\n",
    "\n",
    "proper_divisors(12)"
   ]
  },
  {
   "attachments": {},
   "cell_type": "markdown",
   "metadata": {},
   "source": [
    "4. When writing out a list of items in English, one normally separates the items with\n",
    "commas. In addition, the word “and” is normally included before the last item, unless\n",
    "the list only contains one item. Consider the following four lists:\n",
    "\n",
    "apples\n",
    "apples and oranges\n",
    "apples, oranges and bananas\n",
    "apples, oranges, bananas and lemons\n",
    "\n",
    "Write a function that takes a list of strings as its only parameter. Your function\n",
    "should return a string that contains all of the items in the list formatted in the manner\n",
    "described previously as its only result. Write a program that reads several items from the user,\n",
    "formats them by calling your function, and then displays the result returned by the\n",
    "function."
   ]
  },
  {
   "cell_type": "code",
   "execution_count": null,
   "metadata": {},
   "outputs": [],
   "source": [
    "def string_from_list(word_list):\n",
    "    string = \"\"\n",
    "    for i in range(len(word_list)):\n",
    "        if i == (len(word_list)-1):\n",
    "            string += f\"and {word_list[i]}.\"\n",
    "        else:\n",
    "            string += f\"{word_list[i]}, \"\n",
    "    return string\n",
    "\n",
    "test = string_from_list([\"apple\", \"orange\", \"banana\"])\n",
    "print(test)"
   ]
  },
  {
   "attachments": {},
   "cell_type": "markdown",
   "metadata": {},
   "source": [
    "5. Write a program that reads numbers from the user until the users enters a string “end”. Your program should display the average of all of the values entered by the user. Then the program should display all of the below average values, followed by all of the average values (if any), followed by all of the above average values. An appropriate label should be displayed before each list of values"
   ]
  },
  {
   "cell_type": "code",
   "execution_count": null,
   "metadata": {},
   "outputs": [],
   "source": [
    "int_list = []\n",
    "while True:\n",
    "    integer = input(\"Enter a number. Enter \"\"end\"\" to quit. :\")\n",
    "    if str(integer) == \"end\":\n",
    "        average = (sum(int_list)/len(int_list))\n",
    "        below_avg = [i for i in int_list if i < average]\n",
    "        avg = [i for i in int_list if i == average]\n",
    "        above_avg = [i for i in int_list if i > average]\n",
    "        print(\"Quitting program and printing values ...\")\n",
    "        print(\"Average : \", average)\n",
    "        print(\"Values in the list below average: \", sorted(below_avg))\n",
    "        if bool(avg):\n",
    "            print(\"Values in the list equal to the average: \", avg)\n",
    "        else:\n",
    "            print(\"None of the values in the list are equal to the average!\")\n",
    "        print(\"Values in the list above average: \", sorted(above_avg))\n",
    "        break\n",
    "    int_list.append(int(integer))"
   ]
  },
  {
   "attachments": {},
   "cell_type": "markdown",
   "metadata": {},
   "source": [
    "Dictionary Exercises\n",
    "———————————---------\n",
    "\n",
    "1.Write a program to enter the Employee number, name, designation & salary of 3 employees from the user & store it in a dictionary. Display the dictionary. Ask the user to enter the employee id, and the employee details of that employee should be displayed.\n"
   ]
  },
  {
   "cell_type": "code",
   "execution_count": null,
   "metadata": {},
   "outputs": [],
   "source": [
    "employee_dict = {}\n",
    "\n",
    "for i in range(3):\n",
    "    emp_num = input(\"Enter employee number: \")\n",
    "    emp_name = input(\"Enter employee name: \")\n",
    "    emp_desig = input(\"Enter employee designation: \")\n",
    "    emp_salary = float(input(\"Enter employee salary: \"))\n",
    "\n",
    "    emp_details = {\n",
    "        \"name\": emp_name,\n",
    "        \"designation\": emp_desig,\n",
    "        \"salary\": emp_salary\n",
    "    }\n",
    "\n",
    "    employee_dict[emp_num] = emp_details\n",
    "\n",
    "print(\"Employee dictionary:\", employee_dict)\n",
    "\n",
    "emp_id = input(\"Enter employee id to display details: \")\n",
    "\n",
    "if emp_id in employee_dict:\n",
    "    print(\"Employee details for id\", emp_id, \":\", employee_dict[emp_id])\n",
    "else:\n",
    "    print(\"Employee id not found in the dictionary.\")"
   ]
  },
  {
   "attachments": {},
   "cell_type": "markdown",
   "metadata": {},
   "source": [
    "2. Write a function named reverseLookup that finds all of the keys in a dictionary\n",
    "that map to a specific value. The function will take the dictionary and the value to\n",
    "search for as its only parameters. It will return a list of keys from\n",
    "the dictionary that map to the provided value.\n"
   ]
  },
  {
   "cell_type": "code",
   "execution_count": null,
   "metadata": {},
   "outputs": [],
   "source": [
    "def reverseLookup(dictionary, value):\n",
    "    keys = []\n",
    "    for key in dictionary:\n",
    "        if dictionary[key] == value:\n",
    "            keys.append(key)\n",
    "    return keys\n",
    "\n",
    "test = {\"emp\":\"John\", \"mngr\":\"Jane\", \"intern\":\"Mike\"}\n",
    "reverseLookup(test, \"John\")"
   ]
  },
  {
   "attachments": {},
   "cell_type": "markdown",
   "metadata": {},
   "source": [
    "3. Two words are anagrams if they contain all of the same letters, but in a different\n",
    "order. For example, “evil” and “live” are anagrams because each contains one e, one\n",
    "i, one l, and one v. Create a program that reads two strings from the user, determines\n",
    "whether or not they are anagrams, and reports the result. \n",
    "\n",
    "Hint : create 2 dictionaries having the letter as a key and the count of that letter as the value, ex: {‘e’:2} means e occurs 2 times in the word. If both the dictionaries are equal the words are anagrams. Use count method of a string.\n",
    "\n",
    "Without dictionary:  check if the words are of same length, then go through every letter of the 1st word, if ex: word1.count(letter) == word2.count(letter) for all the letters words are anagrams.\n"
   ]
  },
  {
   "cell_type": "code",
   "execution_count": null,
   "metadata": {},
   "outputs": [],
   "source": [
    "word1 = input(\"Enter the first word: \")\n",
    "word2 = input(\"Enter the second word: \")\n",
    "dict1 = {letter: word1.count(letter) for letter in word1}\n",
    "dict2 = {letter: word2.count(letter) for letter in word2}\n",
    "if dict1 == dict2:\n",
    "    print(word1, \"and\", word2, \"are anagrams.\")\n",
    "else:\n",
    "    print(word1, \"and\", word2, \"are not anagrams.\")"
   ]
  },
  {
   "attachments": {},
   "cell_type": "markdown",
   "metadata": {},
   "source": [
    "OOPs Exercises\n",
    "\n",
    "1) Create a Cricle class and intialize it with radius. Make two methods getArea and getCircumference inside this class\n"
   ]
  },
  {
   "cell_type": "code",
   "execution_count": null,
   "metadata": {},
   "outputs": [],
   "source": [
    "class Circle:\n",
    "    def __init__(self, radius):\n",
    "        self.radius = radius\n",
    "    \n",
    "    def getArea(self):\n",
    "        area = 3.14*self.radius**2\n",
    "        return area\n",
    "        \n",
    "    def getCircumference(self):\n",
    "        circumference = 2*3.14*self.radius\n",
    "        return circumference\n",
    "\n",
    "myCircle = Circle(25)\n",
    "myCircle.getArea()"
   ]
  },
  {
   "attachments": {},
   "cell_type": "markdown",
   "metadata": {},
   "source": [
    "2) Create a Temprature class. Make two methods :\n",
    "a. convertFahrenheit - It will take celsius and will print it into Fahrenheit.\n",
    "b. convertCelsius - It will take Fahrenheit and will convert it into Celsius."
   ]
  },
  {
   "cell_type": "code",
   "execution_count": null,
   "metadata": {},
   "outputs": [],
   "source": [
    "class Temp:  \n",
    "    def convertFahrenheit(temp):\n",
    "        celsius = (temp-32)*(5/9)\n",
    "        return celsius\n",
    "    \n",
    "    def convertCelsius(temp):\n",
    "        fahrenhite = (temp*9/5)+32\n",
    "        return fahrenhite"
   ]
  },
  {
   "attachments": {},
   "cell_type": "markdown",
   "metadata": {},
   "source": [
    "3) Create a Student class and initialize it with name and roll number. Make methods to :\n",
    "a. Display - It should display all informations of the student.\n",
    "b. setAge - It should assign age to student\n",
    "c. setMarks - It should assign marks to the student."
   ]
  },
  {
   "cell_type": "code",
   "execution_count": null,
   "metadata": {},
   "outputs": [],
   "source": [
    "class Student:\n",
    "    def __init__(self, name, roll_number):\n",
    "        self.name = name\n",
    "        self.roll = roll_number\n",
    "\n",
    "    def Display(self):\n",
    "        dict = {\"Name\": self.name, \"Roll Number\": self.roll}\n",
    "        return dict\n",
    "    \n",
    "    def setAge(self, age):\n",
    "        self.age = age\n",
    "        return f\"{self.name}'s age is {self.age}\"\n",
    "    \n",
    "    def setMarks(self, marks):\n",
    "        self.marks = marks\n",
    "        return f\"{self.name}'s marks are:  {self.marks}\"\n",
    "\n",
    "test=Student(\"John\", 12)\n",
    "print(test.setAge(16))\n",
    "print(test.Display())\n",
    "print(test.setMarks(54))\n"
   ]
  },
  {
   "attachments": {},
   "cell_type": "markdown",
   "metadata": {},
   "source": [
    "4)Create a Time class and initialize it with hours and minutes.\n",
    "a. Make a method addTime which should take two time object and add them. E.g.- (2 hour and 50 min)+(1 hr and 20 min) is (4 hr and 10 min)\n",
    "b. Make a method displayTime which should print the time.\n",
    "c. Make a method DisplayMinute which should display the total minutes in the Time. E.g.- (1 hr 2 min) should display 62 minute.\n"
   ]
  },
  {
   "cell_type": "code",
   "execution_count": null,
   "metadata": {},
   "outputs": [],
   "source": [
    "from datetime import datetime, time \n",
    "\n",
    "class Time:\n",
    "    def __init__(self, hours, minutes):\n",
    "        self.hours = hours\n",
    "        self.minutes = minutes\n",
    "\n",
    "    ##Time should be entered in hh:mm format as a string for the function to work.! eg: addTime(\"1:30\", \"2:55\")    \n",
    "    def addTime(self, time1, time2):\n",
    "        time_1 = datetime.strptime(time1, \"%H:%M\")\n",
    "        time_2 = datetime.strptime(time2, \"%H:%M\")\n",
    "        total_hours = time_1.hour + time_2.hour\n",
    "        total_mins = time_1.minute + time_2.minute\n",
    "        if total_mins >= 60:\n",
    "            total_hours += 1\n",
    "            total_mins -= 60\n",
    "        return f\"Total time: {total_hours} hours and {total_mins} minutes.\"\n",
    "    \n",
    "    def displayTime(self):\n",
    "        print(f\"Time is {self.hours} hr and {self.minutes} min\")\n",
    "        \n",
    "    def displayMinutes(self):\n",
    "        total_minutes = self.hours * 60 + self.minutes\n",
    "        print(f\"Total minutes: {total_minutes} minutes\")\n",
    "\n",
    "test = Time(2, 35)\n",
    "print(test.addTime(\"2:30\", \"3:45\"))\n",
    "test.displayTime()\n",
    "test.displayMinutes()"
   ]
  },
  {
   "attachments": {},
   "cell_type": "markdown",
   "metadata": {},
   "source": [
    "5) Create a class Mathematics with different mathematical operations like addition, subtraction...etc and output the deseried results"
   ]
  },
  {
   "cell_type": "code",
   "execution_count": null,
   "metadata": {},
   "outputs": [],
   "source": [
    "class Mathematics:\n",
    "    def addition(self, a, b):\n",
    "        return a + b\n",
    "    \n",
    "    def subtraction(self, a, b):\n",
    "        return a - b\n",
    "    \n",
    "    def multiplication(self, a, b):\n",
    "        return a * b\n",
    "    \n",
    "    def division(self, a, b):\n",
    "        if b == 0:\n",
    "            return \"Error: Cannot divide by zero\"\n",
    "        else:\n",
    "            return a / b\n",
    "\n",
    "test = Mathematics()\n",
    "print(test.addition(25,30))\n",
    "print(test.subtraction(35,60))\n",
    "print(test.multiplication(14,26))\n",
    "print(test.division(36,0))\n",
    "print(test.division(58,65))"
   ]
  }
 ],
 "metadata": {
  "kernelspec": {
   "display_name": "Python 3",
   "language": "python",
   "name": "python3"
  },
  "language_info": {
   "codemirror_mode": {
    "name": "ipython",
    "version": 3
   },
   "file_extension": ".py",
   "mimetype": "text/x-python",
   "name": "python",
   "nbconvert_exporter": "python",
   "pygments_lexer": "ipython3",
   "version": "3.10.8"
  },
  "orig_nbformat": 4
 },
 "nbformat": 4,
 "nbformat_minor": 2
}
